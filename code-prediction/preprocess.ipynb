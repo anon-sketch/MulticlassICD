{
 "cells": [
  {
   "cell_type": "code",
   "execution_count": 1,
   "metadata": {},
   "outputs": [],
   "source": [
    "import json\n",
    "import pandas as pd\n",
    "import wandb"
   ]
  },
  {
   "cell_type": "code",
   "execution_count": 5,
   "metadata": {},
   "outputs": [],
   "source": [
    "with open(\"../code_evidences.json\", \"r\") as f:\n",
    "    data = json.load(f)\n",
    "\n",
    "# Convert the JSON structure to a DataFrame\n",
    "# Each row will be one sentence with its corresponding label.\n",
    "records = []\n",
    "for label, texts in data.items():\n",
    "    for text in texts:\n",
    "        records.append({\"text\": text, \"label\": label})\n",
    "\n",
    "df = pd.DataFrame(records)"
   ]
  },
  {
   "cell_type": "code",
   "execution_count": 8,
   "metadata": {},
   "outputs": [],
   "source": [
    "df['text'] = df['text'].apply(lambda x: x.lower().strip().replace('/', ''))\n",
    "df = df.drop_duplicates(subset=['text'])\n",
    "df_filtered = df.groupby('label').filter(lambda x: len(x) >= 5)"
   ]
  },
  {
   "cell_type": "code",
   "execution_count": 9,
   "metadata": {},
   "outputs": [
    {
     "name": "stdout",
     "output_type": "stream",
     "text": [
      "                                                 text   label  label_id\n",
      "31            personal history of nicotine dependence  Z87891         0\n",
      "32  the preadmission medication list is accurate a...  Z87891         0\n",
      "33                the patient's home medications were  Z87891         0\n",
      "34                   no other known history of cancer  Z87891         0\n",
      "35  was consulted and recommended disposition to r...  Z87891         0\n"
     ]
    }
   ],
   "source": [
    "# Create a mapping of label to integer\n",
    "label_list = df_filtered[\"label\"].unique().tolist()\n",
    "label2id = {label: idx for idx, label in enumerate(label_list)}\n",
    "id2label = {idx: label for label, idx in label2id.items()}\n",
    "\n",
    "# Map the labels in the dataframe\n",
    "df_filtered[\"label_id\"] = df_filtered[\"label\"].map(label2id)\n",
    "print(df_filtered.head())"
   ]
  },
  {
   "cell_type": "code",
   "execution_count": 10,
   "metadata": {},
   "outputs": [],
   "source": [
    "df_filtered.to_csv('filtered_evidences.csv', index=False)"
   ]
  }
 ],
 "metadata": {
  "kernelspec": {
   "display_name": "coding",
   "language": "python",
   "name": "python3"
  },
  "language_info": {
   "codemirror_mode": {
    "name": "ipython",
    "version": 3
   },
   "file_extension": ".py",
   "mimetype": "text/x-python",
   "name": "python",
   "nbconvert_exporter": "python",
   "pygments_lexer": "ipython3",
   "version": "3.11.5"
  }
 },
 "nbformat": 4,
 "nbformat_minor": 2
}
